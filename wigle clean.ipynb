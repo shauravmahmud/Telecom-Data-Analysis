{
 "cells": [
  {
   "cell_type": "code",
   "execution_count": 20,
   "metadata": {},
   "outputs": [],
   "source": [
    "import pandas as pd"
   ]
  },
  {
   "cell_type": "code",
   "execution_count": 22,
   "metadata": {},
   "outputs": [],
   "source": [
    "df= pd.read_csv('RawData_20210423135808.csv',encoding= 'unicode_escape')"
   ]
  },
  {
   "cell_type": "code",
   "execution_count": 23,
   "metadata": {},
   "outputs": [
    {
     "data": {
      "text/plain": [
       "(780, 8)"
      ]
     },
     "execution_count": 23,
     "metadata": {},
     "output_type": "execute_result"
    }
   ],
   "source": [
    "df.shape"
   ]
  },
  {
   "cell_type": "code",
   "execution_count": 24,
   "metadata": {},
   "outputs": [
    {
     "name": "stdout",
     "output_type": "stream",
     "text": [
      "<class 'pandas.core.frame.DataFrame'>\n",
      "MultiIndex: 780 entries, ('MAC', 'SSID', 'AuthMode') to ('47002_5056_33820689', 'Axiata Bangladesh Ltd.', 'UNKNOWN;bd')\n",
      "Data columns (total 8 columns):\n",
      " #   Column                                 Non-Null Count  Dtype \n",
      "---  ------                                 --------------  ----- \n",
      " 0   WigleWifi-1.4                          780 non-null    object\n",
      " 1   appRelease=2.60                        780 non-null    object\n",
      " 2   model=SM-M315F                         780 non-null    object\n",
      " 3   release=11                             780 non-null    object\n",
      " 4   device=m31                             780 non-null    object\n",
      " 5   display=RP1A.200720.012.M315FXXU2BUC8  780 non-null    object\n",
      " 6   board=exynos9611                       780 non-null    object\n",
      " 7   brand=samsung                          780 non-null    object\n",
      "dtypes: object(8)\n",
      "memory usage: 59.9+ KB\n"
     ]
    }
   ],
   "source": [
    "df.info()"
   ]
  },
  {
   "cell_type": "code",
   "execution_count": 25,
   "metadata": {},
   "outputs": [
    {
     "data": {
      "text/html": [
       "<div>\n",
       "<style scoped>\n",
       "    .dataframe tbody tr th:only-of-type {\n",
       "        vertical-align: middle;\n",
       "    }\n",
       "\n",
       "    .dataframe tbody tr th {\n",
       "        vertical-align: top;\n",
       "    }\n",
       "\n",
       "    .dataframe thead th {\n",
       "        text-align: right;\n",
       "    }\n",
       "</style>\n",
       "<table border=\"1\" class=\"dataframe\">\n",
       "  <thead>\n",
       "    <tr style=\"text-align: right;\">\n",
       "      <th></th>\n",
       "      <th></th>\n",
       "      <th></th>\n",
       "      <th>WigleWifi-1.4</th>\n",
       "      <th>appRelease=2.60</th>\n",
       "      <th>model=SM-M315F</th>\n",
       "      <th>release=11</th>\n",
       "      <th>device=m31</th>\n",
       "      <th>display=RP1A.200720.012.M315FXXU2BUC8</th>\n",
       "      <th>board=exynos9611</th>\n",
       "      <th>brand=samsung</th>\n",
       "    </tr>\n",
       "  </thead>\n",
       "  <tbody>\n",
       "    <tr>\n",
       "      <th>MAC</th>\n",
       "      <th>SSID</th>\n",
       "      <th>AuthMode</th>\n",
       "      <td>FirstSeen</td>\n",
       "      <td>Channel</td>\n",
       "      <td>RSSI</td>\n",
       "      <td>CurrentLatitude</td>\n",
       "      <td>CurrentLongitude</td>\n",
       "      <td>AltitudeMeters</td>\n",
       "      <td>AccuracyMeters</td>\n",
       "      <td>Type</td>\n",
       "    </tr>\n",
       "    <tr>\n",
       "      <th>10:be:f5:fd:11:39</th>\n",
       "      <th>Gateway</th>\n",
       "      <th>[WPA2-PSK-CCMP][RSN-PSK-CCMP][ESS]</th>\n",
       "      <td>2021-04-23 12:37:57</td>\n",
       "      <td>1</td>\n",
       "      <td>-29</td>\n",
       "      <td>23.745743217878044</td>\n",
       "      <td>90.41836325079203</td>\n",
       "      <td>-27</td>\n",
       "      <td>6.5</td>\n",
       "      <td>WIFI</td>\n",
       "    </tr>\n",
       "    <tr>\n",
       "      <th>60:32:b1:dd:f3:12</th>\n",
       "      <th>MPPJA</th>\n",
       "      <th>[WPA2-PSK-CCMP][RSN-PSK-CCMP][ESS][WPS]</th>\n",
       "      <td>2021-04-23 12:37:57</td>\n",
       "      <td>3</td>\n",
       "      <td>-49</td>\n",
       "      <td>23.745743217878044</td>\n",
       "      <td>90.41836325079203</td>\n",
       "      <td>-27</td>\n",
       "      <td>6.5</td>\n",
       "      <td>WIFI</td>\n",
       "    </tr>\n",
       "    <tr>\n",
       "      <th>50:d4:f7:0b:6a:74</th>\n",
       "      <th>BTS Army</th>\n",
       "      <th>[WPA2-PSK-CCMP][RSN-PSK-CCMP][ESS][WPS]</th>\n",
       "      <td>2021-04-23 12:37:57</td>\n",
       "      <td>9</td>\n",
       "      <td>-73</td>\n",
       "      <td>23.745743217878044</td>\n",
       "      <td>90.41836325079203</td>\n",
       "      <td>-27</td>\n",
       "      <td>6.5</td>\n",
       "      <td>WIFI</td>\n",
       "    </tr>\n",
       "    <tr>\n",
       "      <th>cc:2d:21:68:80:18</th>\n",
       "      <th>Akash WiFi</th>\n",
       "      <th>[WPA-PSK-CCMP][WPA2-PSK-CCMP][RSN-PSK-CCMP][ESS]</th>\n",
       "      <td>2021-04-23 12:37:57</td>\n",
       "      <td>11</td>\n",
       "      <td>-79</td>\n",
       "      <td>23.745743217878044</td>\n",
       "      <td>90.41836325079203</td>\n",
       "      <td>-27</td>\n",
       "      <td>6.5</td>\n",
       "      <td>WIFI</td>\n",
       "    </tr>\n",
       "  </tbody>\n",
       "</table>\n",
       "</div>"
      ],
      "text/plain": [
       "                                                                                     WigleWifi-1.4  \\\n",
       "MAC               SSID       AuthMode                                                    FirstSeen   \n",
       "10:be:f5:fd:11:39 Gateway    [WPA2-PSK-CCMP][RSN-PSK-CCMP][ESS]                2021-04-23 12:37:57   \n",
       "60:32:b1:dd:f3:12 MPPJA      [WPA2-PSK-CCMP][RSN-PSK-CCMP][ESS][WPS]           2021-04-23 12:37:57   \n",
       "50:d4:f7:0b:6a:74 BTS Army   [WPA2-PSK-CCMP][RSN-PSK-CCMP][ESS][WPS]           2021-04-23 12:37:57   \n",
       "cc:2d:21:68:80:18 Akash WiFi [WPA-PSK-CCMP][WPA2-PSK-CCMP][RSN-PSK-CCMP][ESS]  2021-04-23 12:37:57   \n",
       "\n",
       "                                                                              appRelease=2.60  \\\n",
       "MAC               SSID       AuthMode                                                 Channel   \n",
       "10:be:f5:fd:11:39 Gateway    [WPA2-PSK-CCMP][RSN-PSK-CCMP][ESS]                             1   \n",
       "60:32:b1:dd:f3:12 MPPJA      [WPA2-PSK-CCMP][RSN-PSK-CCMP][ESS][WPS]                        3   \n",
       "50:d4:f7:0b:6a:74 BTS Army   [WPA2-PSK-CCMP][RSN-PSK-CCMP][ESS][WPS]                        9   \n",
       "cc:2d:21:68:80:18 Akash WiFi [WPA-PSK-CCMP][WPA2-PSK-CCMP][RSN-PSK-CCMP][ESS]              11   \n",
       "\n",
       "                                                                              model=SM-M315F  \\\n",
       "MAC               SSID       AuthMode                                                   RSSI   \n",
       "10:be:f5:fd:11:39 Gateway    [WPA2-PSK-CCMP][RSN-PSK-CCMP][ESS]                          -29   \n",
       "60:32:b1:dd:f3:12 MPPJA      [WPA2-PSK-CCMP][RSN-PSK-CCMP][ESS][WPS]                     -49   \n",
       "50:d4:f7:0b:6a:74 BTS Army   [WPA2-PSK-CCMP][RSN-PSK-CCMP][ESS][WPS]                     -73   \n",
       "cc:2d:21:68:80:18 Akash WiFi [WPA-PSK-CCMP][WPA2-PSK-CCMP][RSN-PSK-CCMP][ESS]            -79   \n",
       "\n",
       "                                                                                       release=11  \\\n",
       "MAC               SSID       AuthMode                                             CurrentLatitude   \n",
       "10:be:f5:fd:11:39 Gateway    [WPA2-PSK-CCMP][RSN-PSK-CCMP][ESS]                23.745743217878044   \n",
       "60:32:b1:dd:f3:12 MPPJA      [WPA2-PSK-CCMP][RSN-PSK-CCMP][ESS][WPS]           23.745743217878044   \n",
       "50:d4:f7:0b:6a:74 BTS Army   [WPA2-PSK-CCMP][RSN-PSK-CCMP][ESS][WPS]           23.745743217878044   \n",
       "cc:2d:21:68:80:18 Akash WiFi [WPA-PSK-CCMP][WPA2-PSK-CCMP][RSN-PSK-CCMP][ESS]  23.745743217878044   \n",
       "\n",
       "                                                                                      device=m31  \\\n",
       "MAC               SSID       AuthMode                                           CurrentLongitude   \n",
       "10:be:f5:fd:11:39 Gateway    [WPA2-PSK-CCMP][RSN-PSK-CCMP][ESS]                90.41836325079203   \n",
       "60:32:b1:dd:f3:12 MPPJA      [WPA2-PSK-CCMP][RSN-PSK-CCMP][ESS][WPS]           90.41836325079203   \n",
       "50:d4:f7:0b:6a:74 BTS Army   [WPA2-PSK-CCMP][RSN-PSK-CCMP][ESS][WPS]           90.41836325079203   \n",
       "cc:2d:21:68:80:18 Akash WiFi [WPA-PSK-CCMP][WPA2-PSK-CCMP][RSN-PSK-CCMP][ESS]  90.41836325079203   \n",
       "\n",
       "                                                                              display=RP1A.200720.012.M315FXXU2BUC8  \\\n",
       "MAC               SSID       AuthMode                                                                AltitudeMeters   \n",
       "10:be:f5:fd:11:39 Gateway    [WPA2-PSK-CCMP][RSN-PSK-CCMP][ESS]                                                 -27   \n",
       "60:32:b1:dd:f3:12 MPPJA      [WPA2-PSK-CCMP][RSN-PSK-CCMP][ESS][WPS]                                            -27   \n",
       "50:d4:f7:0b:6a:74 BTS Army   [WPA2-PSK-CCMP][RSN-PSK-CCMP][ESS][WPS]                                            -27   \n",
       "cc:2d:21:68:80:18 Akash WiFi [WPA-PSK-CCMP][WPA2-PSK-CCMP][RSN-PSK-CCMP][ESS]                                   -27   \n",
       "\n",
       "                                                                              board=exynos9611  \\\n",
       "MAC               SSID       AuthMode                                           AccuracyMeters   \n",
       "10:be:f5:fd:11:39 Gateway    [WPA2-PSK-CCMP][RSN-PSK-CCMP][ESS]                            6.5   \n",
       "60:32:b1:dd:f3:12 MPPJA      [WPA2-PSK-CCMP][RSN-PSK-CCMP][ESS][WPS]                       6.5   \n",
       "50:d4:f7:0b:6a:74 BTS Army   [WPA2-PSK-CCMP][RSN-PSK-CCMP][ESS][WPS]                       6.5   \n",
       "cc:2d:21:68:80:18 Akash WiFi [WPA-PSK-CCMP][WPA2-PSK-CCMP][RSN-PSK-CCMP][ESS]              6.5   \n",
       "\n",
       "                                                                              brand=samsung  \n",
       "MAC               SSID       AuthMode                                                  Type  \n",
       "10:be:f5:fd:11:39 Gateway    [WPA2-PSK-CCMP][RSN-PSK-CCMP][ESS]                        WIFI  \n",
       "60:32:b1:dd:f3:12 MPPJA      [WPA2-PSK-CCMP][RSN-PSK-CCMP][ESS][WPS]                   WIFI  \n",
       "50:d4:f7:0b:6a:74 BTS Army   [WPA2-PSK-CCMP][RSN-PSK-CCMP][ESS][WPS]                   WIFI  \n",
       "cc:2d:21:68:80:18 Akash WiFi [WPA-PSK-CCMP][WPA2-PSK-CCMP][RSN-PSK-CCMP][ESS]          WIFI  "
      ]
     },
     "execution_count": 25,
     "metadata": {},
     "output_type": "execute_result"
    }
   ],
   "source": [
    "df.head()"
   ]
  },
  {
   "cell_type": "markdown",
   "metadata": {},
   "source": [
    "# After Cleaning the Raw DATA "
   ]
  },
  {
   "cell_type": "code",
   "execution_count": 28,
   "metadata": {},
   "outputs": [],
   "source": [
    "df= pd.read_csv('CleanDATA_20210423135808.csv',encoding= 'unicode_escape')"
   ]
  },
  {
   "cell_type": "code",
   "execution_count": 29,
   "metadata": {},
   "outputs": [
    {
     "data": {
      "text/plain": [
       "(779, 11)"
      ]
     },
     "execution_count": 29,
     "metadata": {},
     "output_type": "execute_result"
    }
   ],
   "source": [
    "df.shape"
   ]
  },
  {
   "cell_type": "code",
   "execution_count": 32,
   "metadata": {},
   "outputs": [
    {
     "data": {
      "text/html": [
       "<div>\n",
       "<style scoped>\n",
       "    .dataframe tbody tr th:only-of-type {\n",
       "        vertical-align: middle;\n",
       "    }\n",
       "\n",
       "    .dataframe tbody tr th {\n",
       "        vertical-align: top;\n",
       "    }\n",
       "\n",
       "    .dataframe thead th {\n",
       "        text-align: right;\n",
       "    }\n",
       "</style>\n",
       "<table border=\"1\" class=\"dataframe\">\n",
       "  <thead>\n",
       "    <tr style=\"text-align: right;\">\n",
       "      <th></th>\n",
       "      <th>MAC</th>\n",
       "      <th>SSID</th>\n",
       "      <th>AuthMode</th>\n",
       "      <th>FirstSeen</th>\n",
       "      <th>Channel</th>\n",
       "      <th>RSSI</th>\n",
       "      <th>CurrentLatitude</th>\n",
       "      <th>CurrentLongitude</th>\n",
       "      <th>AltitudeMeters</th>\n",
       "      <th>AccuracyMeters</th>\n",
       "      <th>Type</th>\n",
       "    </tr>\n",
       "  </thead>\n",
       "  <tbody>\n",
       "    <tr>\n",
       "      <th>0</th>\n",
       "      <td>10:be:f5:fd:11:39</td>\n",
       "      <td>Gateway</td>\n",
       "      <td>[WPA2-PSK-CCMP][RSN-PSK-CCMP][ESS]</td>\n",
       "      <td>2021-04-23 12:37:57</td>\n",
       "      <td>1</td>\n",
       "      <td>-29</td>\n",
       "      <td>23.745743</td>\n",
       "      <td>90.418363</td>\n",
       "      <td>-27</td>\n",
       "      <td>6.5</td>\n",
       "      <td>WIFI</td>\n",
       "    </tr>\n",
       "    <tr>\n",
       "      <th>1</th>\n",
       "      <td>60:32:b1:dd:f3:12</td>\n",
       "      <td>MPPJA</td>\n",
       "      <td>[WPA2-PSK-CCMP][RSN-PSK-CCMP][ESS][WPS]</td>\n",
       "      <td>2021-04-23 12:37:57</td>\n",
       "      <td>3</td>\n",
       "      <td>-49</td>\n",
       "      <td>23.745743</td>\n",
       "      <td>90.418363</td>\n",
       "      <td>-27</td>\n",
       "      <td>6.5</td>\n",
       "      <td>WIFI</td>\n",
       "    </tr>\n",
       "    <tr>\n",
       "      <th>2</th>\n",
       "      <td>50:d4:f7:0b:6a:74</td>\n",
       "      <td>BTS Army</td>\n",
       "      <td>[WPA2-PSK-CCMP][RSN-PSK-CCMP][ESS][WPS]</td>\n",
       "      <td>2021-04-23 12:37:57</td>\n",
       "      <td>9</td>\n",
       "      <td>-73</td>\n",
       "      <td>23.745743</td>\n",
       "      <td>90.418363</td>\n",
       "      <td>-27</td>\n",
       "      <td>6.5</td>\n",
       "      <td>WIFI</td>\n",
       "    </tr>\n",
       "    <tr>\n",
       "      <th>3</th>\n",
       "      <td>cc:2d:21:68:80:18</td>\n",
       "      <td>Akash WiFi</td>\n",
       "      <td>[WPA-PSK-CCMP][WPA2-PSK-CCMP][RSN-PSK-CCMP][ESS]</td>\n",
       "      <td>2021-04-23 12:37:57</td>\n",
       "      <td>11</td>\n",
       "      <td>-79</td>\n",
       "      <td>23.745743</td>\n",
       "      <td>90.418363</td>\n",
       "      <td>-27</td>\n",
       "      <td>6.5</td>\n",
       "      <td>WIFI</td>\n",
       "    </tr>\n",
       "    <tr>\n",
       "      <th>4</th>\n",
       "      <td>c8:e7:d8:6b:3e:d4</td>\n",
       "      <td>Srabon Ahmed</td>\n",
       "      <td>[WPA2-PSK-CCMP][RSN-PSK-CCMP][WPA-PSK-CCMP][ES...</td>\n",
       "      <td>2021-04-23 12:37:57</td>\n",
       "      <td>1</td>\n",
       "      <td>-85</td>\n",
       "      <td>23.745743</td>\n",
       "      <td>90.418363</td>\n",
       "      <td>-27</td>\n",
       "      <td>6.5</td>\n",
       "      <td>WIFI</td>\n",
       "    </tr>\n",
       "  </tbody>\n",
       "</table>\n",
       "</div>"
      ],
      "text/plain": [
       "                 MAC           SSID  \\\n",
       "0  10:be:f5:fd:11:39        Gateway   \n",
       "1  60:32:b1:dd:f3:12          MPPJA   \n",
       "2  50:d4:f7:0b:6a:74       BTS Army   \n",
       "3  cc:2d:21:68:80:18     Akash WiFi   \n",
       "4  c8:e7:d8:6b:3e:d4  Srabon Ahmed    \n",
       "\n",
       "                                            AuthMode            FirstSeen  \\\n",
       "0                 [WPA2-PSK-CCMP][RSN-PSK-CCMP][ESS]  2021-04-23 12:37:57   \n",
       "1            [WPA2-PSK-CCMP][RSN-PSK-CCMP][ESS][WPS]  2021-04-23 12:37:57   \n",
       "2            [WPA2-PSK-CCMP][RSN-PSK-CCMP][ESS][WPS]  2021-04-23 12:37:57   \n",
       "3   [WPA-PSK-CCMP][WPA2-PSK-CCMP][RSN-PSK-CCMP][ESS]  2021-04-23 12:37:57   \n",
       "4  [WPA2-PSK-CCMP][RSN-PSK-CCMP][WPA-PSK-CCMP][ES...  2021-04-23 12:37:57   \n",
       "\n",
       "   Channel  RSSI  CurrentLatitude  CurrentLongitude  AltitudeMeters  \\\n",
       "0        1   -29        23.745743         90.418363             -27   \n",
       "1        3   -49        23.745743         90.418363             -27   \n",
       "2        9   -73        23.745743         90.418363             -27   \n",
       "3       11   -79        23.745743         90.418363             -27   \n",
       "4        1   -85        23.745743         90.418363             -27   \n",
       "\n",
       "   AccuracyMeters  Type  \n",
       "0             6.5  WIFI  \n",
       "1             6.5  WIFI  \n",
       "2             6.5  WIFI  \n",
       "3             6.5  WIFI  \n",
       "4             6.5  WIFI  "
      ]
     },
     "execution_count": 32,
     "metadata": {},
     "output_type": "execute_result"
    }
   ],
   "source": [
    "df.head()"
   ]
  },
  {
   "cell_type": "code",
   "execution_count": 33,
   "metadata": {},
   "outputs": [
    {
     "name": "stdout",
     "output_type": "stream",
     "text": [
      "<class 'pandas.core.frame.DataFrame'>\n",
      "RangeIndex: 779 entries, 0 to 778\n",
      "Data columns (total 11 columns):\n",
      " #   Column            Non-Null Count  Dtype  \n",
      "---  ------            --------------  -----  \n",
      " 0   MAC               779 non-null    object \n",
      " 1   SSID              585 non-null    object \n",
      " 2   AuthMode          776 non-null    object \n",
      " 3   FirstSeen         779 non-null    object \n",
      " 4   Channel           779 non-null    int64  \n",
      " 5   RSSI              779 non-null    int64  \n",
      " 6   CurrentLatitude   779 non-null    float64\n",
      " 7   CurrentLongitude  779 non-null    float64\n",
      " 8   AltitudeMeters    779 non-null    int64  \n",
      " 9   AccuracyMeters    779 non-null    float64\n",
      " 10  Type              779 non-null    object \n",
      "dtypes: float64(3), int64(3), object(5)\n",
      "memory usage: 67.1+ KB\n"
     ]
    }
   ],
   "source": [
    "df.info()"
   ]
  },
  {
   "cell_type": "code",
   "execution_count": 34,
   "metadata": {},
   "outputs": [
    {
     "data": {
      "text/plain": [
       "MAC                   0\n",
       "SSID                194\n",
       "AuthMode              3\n",
       "FirstSeen             0\n",
       "Channel               0\n",
       "RSSI                  0\n",
       "CurrentLatitude       0\n",
       "CurrentLongitude      0\n",
       "AltitudeMeters        0\n",
       "AccuracyMeters        0\n",
       "Type                  0\n",
       "dtype: int64"
      ]
     },
     "execution_count": 34,
     "metadata": {},
     "output_type": "execute_result"
    }
   ],
   "source": [
    "df.isnull().sum()"
   ]
  },
  {
   "cell_type": "code",
   "execution_count": null,
   "metadata": {},
   "outputs": [],
   "source": []
  },
  {
   "cell_type": "code",
   "execution_count": null,
   "metadata": {},
   "outputs": [],
   "source": []
  },
  {
   "cell_type": "code",
   "execution_count": null,
   "metadata": {},
   "outputs": [],
   "source": []
  },
  {
   "cell_type": "code",
   "execution_count": null,
   "metadata": {},
   "outputs": [],
   "source": []
  }
 ],
 "metadata": {
  "kernelspec": {
   "display_name": "Python 3",
   "language": "python",
   "name": "python3"
  },
  "language_info": {
   "codemirror_mode": {
    "name": "ipython",
    "version": 3
   },
   "file_extension": ".py",
   "mimetype": "text/x-python",
   "name": "python",
   "nbconvert_exporter": "python",
   "pygments_lexer": "ipython3",
   "version": "3.8.3"
  }
 },
 "nbformat": 4,
 "nbformat_minor": 4
}
